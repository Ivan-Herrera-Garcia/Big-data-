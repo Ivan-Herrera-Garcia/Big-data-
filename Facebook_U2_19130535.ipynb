{
 "cells": [
  {
   "cell_type": "code",
   "execution_count": 22,
   "id": "a7a2363f",
   "metadata": {},
   "outputs": [],
   "source": [
    "# Tener instalado el modulo facebook para poder importar facebook\n",
    "# pip install -e git+https://github.com/mobolic/facebook-sdk.git#egg=facebook-sdk\n",
    "import facebook"
   ]
  },
  {
   "cell_type": "code",
   "execution_count": 1,
   "id": "a9517b5c",
   "metadata": {},
   "outputs": [
    {
     "ename": "ModuleNotFoundError",
     "evalue": "No module named 'facebook'",
     "output_type": "error",
     "traceback": [
      "\u001b[1;31m---------------------------------------------------------------------------\u001b[0m",
      "\u001b[1;31mModuleNotFoundError\u001b[0m                       Traceback (most recent call last)",
      "\u001b[1;32mC:\\Users\\IVANHE~1\\AppData\\Local\\Temp/ipykernel_6556/4052392690.py\u001b[0m in \u001b[0;36m<module>\u001b[1;34m\u001b[0m\n\u001b[0;32m      1\u001b[0m \u001b[1;32mimport\u001b[0m \u001b[0mjson\u001b[0m\u001b[1;33m\u001b[0m\u001b[1;33m\u001b[0m\u001b[0m\n\u001b[1;32m----> 2\u001b[1;33m \u001b[1;32mimport\u001b[0m \u001b[0mfacebook\u001b[0m\u001b[1;33m\u001b[0m\u001b[1;33m\u001b[0m\u001b[0m\n\u001b[0m\u001b[0;32m      3\u001b[0m \u001b[1;33m\u001b[0m\u001b[0m\n\u001b[0;32m      4\u001b[0m \u001b[0mACCESS_TOKEN\u001b[0m \u001b[1;33m=\u001b[0m \u001b[1;34m\"EABIDk8PtfJ0BAKhRY6nVls5i75hQ9LqPtEGaanE4nrbAG8uybqRLZBqu0IMY3lvRTqLjc1kF4B0OND3iUrGkq9QJZCFxE7oCvExdxtRwBLzhpXplyIsNY5GkZBjKL7ILGvjTix4p5ECx5xvbQLhjgtSzKzY84WWbITXn08AGlYOrHTm0Gh24Mrgqhh37rxTVVzzoFSk3R7ahxx155apmCUKUJO1InZATJ9B8BKdvaXdKBLZCFRj6V\"\u001b[0m\u001b[1;33m\u001b[0m\u001b[1;33m\u001b[0m\u001b[0m\n\u001b[0;32m      5\u001b[0m \u001b[1;31m#En la variable ACCESS_TOKEN va la token generada por facebook developer\u001b[0m\u001b[1;33m\u001b[0m\u001b[1;33m\u001b[0m\u001b[0m\n",
      "\u001b[1;31mModuleNotFoundError\u001b[0m: No module named 'facebook'"
     ]
    }
   ],
   "source": [
    "import json\n",
    "import facebook\n",
    "\n",
    "ACCESS_TOKEN = \"EABIDk8PtfJ0BAKhRY6nVls5i75hQ9LqPtEGaanE4nrbAG8uybqRLZBqu0IMY3lvRTqLjc1kF4B0OND3iUrGkq9QJZCFxE7oCvExdxtRwBLzhpXplyIsNY5GkZBjKL7ILGvjTix4p5ECx5xvbQLhjgtSzKzY84WWbITXn08AGlYOrHTm0Gh24Mrgqhh37rxTVVzzoFSk3R7ahxx155apmCUKUJO1InZATJ9B8BKdvaXdKBLZCFRj6V\"\n",
    "#En la variable ACCESS_TOKEN va la token generada por facebook developer\n",
    "#En este caso fue generada por Roberto Esquivel Troncoso en su cuenta\n",
    "\n",
    "token = ACCESS_TOKEN\n",
    "#Se le da el valor de ACCESS_TOKEN a Token\n",
    "graph = facebook.GraphAPI(token)\n",
    "#Se utiliza un metodo/propiedad de facebook para tomar los datos de la cuenta, se necesita un parametro (token)\n",
    "  \n",
    "profile = graph.get_object ('me', fields='first_name, location, link, email, posts')\n",
    "#Se utiliza graph.get_object para obtener los datos del perfil\n",
    "    \n",
    "print(\"IMPRIMIENDO PERFIL \")\n",
    "#Se muestra un mensaje en consola de \"IMPRIMIENDO PERFIL\"\n",
    "print(type(profile))\n",
    "#Se muestra el tipo de dato de profile con el metodo/propiedad type\n",
    "    \n",
    "print(json.dumps(profile, indent=4))\n",
    "#Utiliza un scrit del tipo json para imprimir lo obtenido en profile\n",
    "\n",
    "print(type(json.dumps(profile, indent=4)))\n",
    "#Utiliza type para mostrar e tipo de scrit del tipo json para imprimir lo obtenido en profile\n",
    "\n",
    "#Para este trabajo se configuro la app en facebook developer con las siguentes limitaciones:\n",
    "#email, location, first_name, link y posts.\n",
    "#Cabe recalcar que todo fue configurado en facebook developer en el apartado de \"get api integred\"\n"
   ]
  },
  {
   "cell_type": "code",
   "execution_count": null,
   "id": "5774e372",
   "metadata": {},
   "outputs": [],
   "source": []
  },
  {
   "cell_type": "code",
   "execution_count": null,
   "id": "50096e3b",
   "metadata": {},
   "outputs": [],
   "source": []
  }
 ],
 "metadata": {
  "kernelspec": {
   "display_name": "Python 3 (ipykernel)",
   "language": "python",
   "name": "python3"
  },
  "language_info": {
   "codemirror_mode": {
    "name": "ipython",
    "version": 3
   },
   "file_extension": ".py",
   "mimetype": "text/x-python",
   "name": "python",
   "nbconvert_exporter": "python",
   "pygments_lexer": "ipython3",
   "version": "3.9.7"
  }
 },
 "nbformat": 4,
 "nbformat_minor": 5
}
